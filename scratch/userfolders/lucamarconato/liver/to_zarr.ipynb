{
 "cells": [
  {
   "cell_type": "code",
   "execution_count": null,
   "id": "4c284f53",
   "metadata": {},
   "outputs": [],
   "source": [
    "import os\n",
    "os.chdir('/Users/macbook/programming/python')"
   ]
  },
  {
   "cell_type": "code",
   "execution_count": null,
   "id": "edde187e",
   "metadata": {},
   "outputs": [],
   "source": [
    "%matplotlib inline"
   ]
  },
  {
   "cell_type": "code",
   "execution_count": null,
   "id": "ebb37b2d",
   "metadata": {
    "lines_to_next_cell": 0
   },
   "outputs": [],
   "source": []
  },
  {
   "cell_type": "code",
   "execution_count": null,
   "id": "b94d26a4",
   "metadata": {},
   "outputs": [],
   "source": [
    "# setup:\n",
    "# 1) mamba\n",
    "#!pip install git+https://github.com/scverse/spatialdata@napari_fix\n",
    "#!pip install git+https://github.com/scverse/spatialdata-io\n",
    "#!pip install git+https://github.com/giovp/napari-spatialdata@spatialdata"
   ]
  },
  {
   "cell_type": "code",
   "execution_count": null,
   "id": "f6f14b1e",
   "metadata": {},
   "outputs": [],
   "source": [
    "import os\n",
    "import tifffile\n",
    "\n",
    "# to fix paths in Luca's machine:\n",
    "# os.chdir('scratch/userfolders/lucamarconato/liver')\n",
    "\n",
    "# geopandas hack\n",
    "os.environ[\"USE_PYGEOS\"] = \"0\"\n",
    "import geopandas\n",
    "\n",
    "import spatialdata as sd\n",
    "import numpy as np\n",
    "import pyarrow as pa\n",
    "import dask_image.imread\n",
    "import shutil"
   ]
  },
  {
   "cell_type": "code",
   "execution_count": null,
   "id": "a12ef9bc",
   "metadata": {},
   "outputs": [],
   "source": [
    "\n",
    "# check can find the data\n",
    "f = \"../../../datasets/liver/Resolve/\"\n",
    "os.listdir(f) == [\"ResolveData_HCA.tar\"]"
   ]
  },
  {
   "cell_type": "code",
   "execution_count": null,
   "id": "61bebe14",
   "metadata": {
    "lines_to_next_cell": 0
   },
   "outputs": [],
   "source": [
    "# extract the data\n",
    "os.makedirs(\"data\", exist_ok=True)\n",
    "os.system(f\"tar -xvf {f}ResolveData_HCA.tar -C data\")"
   ]
  },
  {
   "cell_type": "code",
   "execution_count": null,
   "id": "15d90da7",
   "metadata": {},
   "outputs": [],
   "source": [
    "def create_points_element(path: str) -> pa.Table:\n",
    "    from pyarrow.csv import read_csv, ReadOptions, ParseOptions\n",
    "\n",
    "    table = read_csv(\n",
    "        path,\n",
    "        read_options=ReadOptions(autogenerate_column_names=True),\n",
    "        parse_options=ParseOptions(delimiter=\"\\t\"),\n",
    "    )\n",
    "\n",
    "    table = table.rename_columns([\"x\", \"y\", \"z\", \"gene\", \"\"]).drop([\"\"])\n",
    "\n",
    "    xyz = table.to_pandas()[[\"x\", \"y\", \"z\"]].to_numpy().astype(np.float32)\n",
    "    gene = pa.Table.from_pydict({\"gene\": table.column(\"gene\").dictionary_encode()})\n",
    "\n",
    "    t = sd.PointsModel.parse(coords=xyz, annotations=gene)\n",
    "    return t\n",
    "\n",
    "\n",
    "organisms = [\"ResolveHuman\", \"ResolveMouse\"]\n",
    "for o in organisms:\n",
    "    points = {}\n",
    "    images = {}\n",
    "    for filename in os.listdir(f\"data/ResolveData_HCA/{o}\"):\n",
    "        if filename.endswith(\".txt\"):\n",
    "            element = create_points_element(f\"data/ResolveData_HCA/{o}/{filename}\")\n",
    "            points[filename.replace('.txt', '')] = element\n",
    "            print(filename, f'converted to Points element ({type(element)}')\n",
    "        elif filename.endswith(\".tiff\"):\n",
    "            im = dask_image.imread.imread(f\"data/ResolveData_HCA/{o}/{filename}\")\n",
    "            name = filename.replace(\".tiff\", \"\")\n",
    "            element = sd.Image2DModel.parse(im, dims=(\"c\", \"y\", \"x\"), multiscale_factors=[2, 4, 8, 16], name=name)\n",
    "            images[name] = element\n",
    "            print(filename, f'converted to Image element ({type(element)})')\n",
    "    sdata = sd.SpatialData(points=points, images=images)\n",
    "    if os.path.isdir(f'{o}.zarr'):\n",
    "        shutil.rmtree(f'{o}.zarr')\n",
    "    print(f\"saving SpatialData object to {o}.zarr\")\n",
    "    sdata.write(f\"{o}.zarr\")\n",
    "    print('done')"
   ]
  },
  {
   "cell_type": "code",
   "execution_count": null,
   "id": "f292773f",
   "metadata": {},
   "outputs": [],
   "source": [
    "# interactive visualization with napari (doesn't work in JupyterLab)\n",
    "from napari_spatialdata import Interactive\n",
    "sdata = sd.SpatialData.read(\"ResolveHuman.zarr\")\n",
    "Interactive(sdata)"
   ]
  },
  {
   "cell_type": "code",
   "execution_count": null,
   "id": "1680143b",
   "metadata": {},
   "outputs": [],
   "source": []
  }
 ],
 "metadata": {
  "jupytext": {
   "cell_metadata_filter": "-all",
   "main_language": "python",
   "notebook_metadata_filter": "-all"
  }
 },
 "nbformat": 4,
 "nbformat_minor": 5
}
